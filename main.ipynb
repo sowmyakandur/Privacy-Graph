{
  "cells": [
    {
      "cell_type": "code",
      "execution_count": null,
      "metadata": {
        "colab": {
          "base_uri": "https://localhost:8080/"
        },
        "id": "3l10o81uXGA5",
        "outputId": "6be8dbf8-95fb-4818-a469-4ed6e566dee7"
      },
      "outputs": [
        {
          "output_type": "stream",
          "name": "stdout",
          "text": [
            "Requirement already satisfied: numpy in /usr/local/lib/python3.11/dist-packages (2.0.2)\n",
            "Requirement already satisfied: pandas in /usr/local/lib/python3.11/dist-packages (2.2.2)\n",
            "Requirement already satisfied: networkx in /usr/local/lib/python3.11/dist-packages (3.4.2)\n",
            "Requirement already satisfied: torch in /usr/local/lib/python3.11/dist-packages (2.6.0+cu124)\n",
            "Requirement already satisfied: torchvision in /usr/local/lib/python3.11/dist-packages (0.21.0+cu124)\n",
            "Requirement already satisfied: torchaudio in /usr/local/lib/python3.11/dist-packages (2.6.0+cu124)\n",
            "Requirement already satisfied: scikit-learn in /usr/local/lib/python3.11/dist-packages (1.6.1)\n",
            "Requirement already satisfied: cryptography in /usr/local/lib/python3.11/dist-packages (43.0.3)\n",
            "Requirement already satisfied: pyvis in /usr/local/lib/python3.11/dist-packages (0.3.2)\n",
            "Requirement already satisfied: streamlit in /usr/local/lib/python3.11/dist-packages (1.45.0)\n",
            "Requirement already satisfied: cloudflared in /usr/local/lib/python3.11/dist-packages (1.0.0.2)\n",
            "Requirement already satisfied: python-dateutil>=2.8.2 in /usr/local/lib/python3.11/dist-packages (from pandas) (2.9.0.post0)\n",
            "Requirement already satisfied: pytz>=2020.1 in /usr/local/lib/python3.11/dist-packages (from pandas) (2025.2)\n",
            "Requirement already satisfied: tzdata>=2022.7 in /usr/local/lib/python3.11/dist-packages (from pandas) (2025.2)\n",
            "Requirement already satisfied: filelock in /usr/local/lib/python3.11/dist-packages (from torch) (3.18.0)\n",
            "Requirement already satisfied: typing-extensions>=4.10.0 in /usr/local/lib/python3.11/dist-packages (from torch) (4.13.2)\n",
            "Requirement already satisfied: jinja2 in /usr/local/lib/python3.11/dist-packages (from torch) (3.1.6)\n",
            "Requirement already satisfied: fsspec in /usr/local/lib/python3.11/dist-packages (from torch) (2025.3.2)\n",
            "Requirement already satisfied: nvidia-cuda-nvrtc-cu12==12.4.127 in /usr/local/lib/python3.11/dist-packages (from torch) (12.4.127)\n",
            "Requirement already satisfied: nvidia-cuda-runtime-cu12==12.4.127 in /usr/local/lib/python3.11/dist-packages (from torch) (12.4.127)\n",
            "Requirement already satisfied: nvidia-cuda-cupti-cu12==12.4.127 in /usr/local/lib/python3.11/dist-packages (from torch) (12.4.127)\n",
            "Requirement already satisfied: nvidia-cudnn-cu12==9.1.0.70 in /usr/local/lib/python3.11/dist-packages (from torch) (9.1.0.70)\n",
            "Requirement already satisfied: nvidia-cublas-cu12==12.4.5.8 in /usr/local/lib/python3.11/dist-packages (from torch) (12.4.5.8)\n",
            "Requirement already satisfied: nvidia-cufft-cu12==11.2.1.3 in /usr/local/lib/python3.11/dist-packages (from torch) (11.2.1.3)\n",
            "Requirement already satisfied: nvidia-curand-cu12==10.3.5.147 in /usr/local/lib/python3.11/dist-packages (from torch) (10.3.5.147)\n",
            "Requirement already satisfied: nvidia-cusolver-cu12==11.6.1.9 in /usr/local/lib/python3.11/dist-packages (from torch) (11.6.1.9)\n",
            "Requirement already satisfied: nvidia-cusparse-cu12==12.3.1.170 in /usr/local/lib/python3.11/dist-packages (from torch) (12.3.1.170)\n",
            "Requirement already satisfied: nvidia-cusparselt-cu12==0.6.2 in /usr/local/lib/python3.11/dist-packages (from torch) (0.6.2)\n",
            "Requirement already satisfied: nvidia-nccl-cu12==2.21.5 in /usr/local/lib/python3.11/dist-packages (from torch) (2.21.5)\n",
            "Requirement already satisfied: nvidia-nvtx-cu12==12.4.127 in /usr/local/lib/python3.11/dist-packages (from torch) (12.4.127)\n",
            "Requirement already satisfied: nvidia-nvjitlink-cu12==12.4.127 in /usr/local/lib/python3.11/dist-packages (from torch) (12.4.127)\n",
            "Requirement already satisfied: triton==3.2.0 in /usr/local/lib/python3.11/dist-packages (from torch) (3.2.0)\n",
            "Requirement already satisfied: sympy==1.13.1 in /usr/local/lib/python3.11/dist-packages (from torch) (1.13.1)\n",
            "Requirement already satisfied: mpmath<1.4,>=1.1.0 in /usr/local/lib/python3.11/dist-packages (from sympy==1.13.1->torch) (1.3.0)\n",
            "Requirement already satisfied: pillow!=8.3.*,>=5.3.0 in /usr/local/lib/python3.11/dist-packages (from torchvision) (11.2.1)\n",
            "Requirement already satisfied: scipy>=1.6.0 in /usr/local/lib/python3.11/dist-packages (from scikit-learn) (1.15.2)\n",
            "Requirement already satisfied: joblib>=1.2.0 in /usr/local/lib/python3.11/dist-packages (from scikit-learn) (1.4.2)\n",
            "Requirement already satisfied: threadpoolctl>=3.1.0 in /usr/local/lib/python3.11/dist-packages (from scikit-learn) (3.6.0)\n",
            "Requirement already satisfied: cffi>=1.12 in /usr/local/lib/python3.11/dist-packages (from cryptography) (1.17.1)\n",
            "Requirement already satisfied: ipython>=5.3.0 in /usr/local/lib/python3.11/dist-packages (from pyvis) (7.34.0)\n",
            "Requirement already satisfied: jsonpickle>=1.4.1 in /usr/local/lib/python3.11/dist-packages (from pyvis) (4.0.5)\n",
            "Requirement already satisfied: altair<6,>=4.0 in /usr/local/lib/python3.11/dist-packages (from streamlit) (5.5.0)\n",
            "Requirement already satisfied: blinker<2,>=1.5.0 in /usr/local/lib/python3.11/dist-packages (from streamlit) (1.9.0)\n",
            "Requirement already satisfied: cachetools<6,>=4.0 in /usr/local/lib/python3.11/dist-packages (from streamlit) (5.5.2)\n",
            "Requirement already satisfied: click<9,>=7.0 in /usr/local/lib/python3.11/dist-packages (from streamlit) (8.1.8)\n",
            "Requirement already satisfied: packaging<25,>=20 in /usr/local/lib/python3.11/dist-packages (from streamlit) (24.2)\n",
            "Requirement already satisfied: protobuf<7,>=3.20 in /usr/local/lib/python3.11/dist-packages (from streamlit) (5.29.4)\n",
            "Requirement already satisfied: pyarrow>=7.0 in /usr/local/lib/python3.11/dist-packages (from streamlit) (18.1.0)\n",
            "Requirement already satisfied: requests<3,>=2.27 in /usr/local/lib/python3.11/dist-packages (from streamlit) (2.32.3)\n",
            "Requirement already satisfied: tenacity<10,>=8.1.0 in /usr/local/lib/python3.11/dist-packages (from streamlit) (9.1.2)\n",
            "Requirement already satisfied: toml<2,>=0.10.1 in /usr/local/lib/python3.11/dist-packages (from streamlit) (0.10.2)\n",
            "Requirement already satisfied: watchdog<7,>=2.1.5 in /usr/local/lib/python3.11/dist-packages (from streamlit) (6.0.0)\n",
            "Requirement already satisfied: gitpython!=3.1.19,<4,>=3.0.7 in /usr/local/lib/python3.11/dist-packages (from streamlit) (3.1.44)\n",
            "Requirement already satisfied: pydeck<1,>=0.8.0b4 in /usr/local/lib/python3.11/dist-packages (from streamlit) (0.9.1)\n",
            "Requirement already satisfied: tornado<7,>=6.0.3 in /usr/local/lib/python3.11/dist-packages (from streamlit) (6.4.2)\n",
            "Requirement already satisfied: setuptools-scm in /usr/local/lib/python3.11/dist-packages (from cloudflared) (8.3.1)\n",
            "Requirement already satisfied: jsonschema>=3.0 in /usr/local/lib/python3.11/dist-packages (from altair<6,>=4.0->streamlit) (4.23.0)\n",
            "Requirement already satisfied: narwhals>=1.14.2 in /usr/local/lib/python3.11/dist-packages (from altair<6,>=4.0->streamlit) (1.37.1)\n",
            "Requirement already satisfied: pycparser in /usr/local/lib/python3.11/dist-packages (from cffi>=1.12->cryptography) (2.22)\n",
            "Requirement already satisfied: gitdb<5,>=4.0.1 in /usr/local/lib/python3.11/dist-packages (from gitpython!=3.1.19,<4,>=3.0.7->streamlit) (4.0.12)\n",
            "Requirement already satisfied: setuptools>=18.5 in /usr/local/lib/python3.11/dist-packages (from ipython>=5.3.0->pyvis) (75.2.0)\n",
            "Requirement already satisfied: jedi>=0.16 in /usr/local/lib/python3.11/dist-packages (from ipython>=5.3.0->pyvis) (0.19.2)\n",
            "Requirement already satisfied: decorator in /usr/local/lib/python3.11/dist-packages (from ipython>=5.3.0->pyvis) (4.4.2)\n",
            "Requirement already satisfied: pickleshare in /usr/local/lib/python3.11/dist-packages (from ipython>=5.3.0->pyvis) (0.7.5)\n",
            "Requirement already satisfied: traitlets>=4.2 in /usr/local/lib/python3.11/dist-packages (from ipython>=5.3.0->pyvis) (5.7.1)\n",
            "Requirement already satisfied: prompt-toolkit!=3.0.0,!=3.0.1,<3.1.0,>=2.0.0 in /usr/local/lib/python3.11/dist-packages (from ipython>=5.3.0->pyvis) (3.0.51)\n",
            "Requirement already satisfied: pygments in /usr/local/lib/python3.11/dist-packages (from ipython>=5.3.0->pyvis) (2.19.1)\n",
            "Requirement already satisfied: backcall in /usr/local/lib/python3.11/dist-packages (from ipython>=5.3.0->pyvis) (0.2.0)\n",
            "Requirement already satisfied: matplotlib-inline in /usr/local/lib/python3.11/dist-packages (from ipython>=5.3.0->pyvis) (0.1.7)\n",
            "Requirement already satisfied: pexpect>4.3 in /usr/local/lib/python3.11/dist-packages (from ipython>=5.3.0->pyvis) (4.9.0)\n",
            "Requirement already satisfied: MarkupSafe>=2.0 in /usr/local/lib/python3.11/dist-packages (from jinja2->torch) (3.0.2)\n",
            "Requirement already satisfied: six>=1.5 in /usr/local/lib/python3.11/dist-packages (from python-dateutil>=2.8.2->pandas) (1.17.0)\n",
            "Requirement already satisfied: charset-normalizer<4,>=2 in /usr/local/lib/python3.11/dist-packages (from requests<3,>=2.27->streamlit) (3.4.1)\n",
            "Requirement already satisfied: idna<4,>=2.5 in /usr/local/lib/python3.11/dist-packages (from requests<3,>=2.27->streamlit) (3.10)\n",
            "Requirement already satisfied: urllib3<3,>=1.21.1 in /usr/local/lib/python3.11/dist-packages (from requests<3,>=2.27->streamlit) (2.4.0)\n",
            "Requirement already satisfied: certifi>=2017.4.17 in /usr/local/lib/python3.11/dist-packages (from requests<3,>=2.27->streamlit) (2025.4.26)\n",
            "Requirement already satisfied: smmap<6,>=3.0.1 in /usr/local/lib/python3.11/dist-packages (from gitdb<5,>=4.0.1->gitpython!=3.1.19,<4,>=3.0.7->streamlit) (5.0.2)\n",
            "Requirement already satisfied: parso<0.9.0,>=0.8.4 in /usr/local/lib/python3.11/dist-packages (from jedi>=0.16->ipython>=5.3.0->pyvis) (0.8.4)\n",
            "Requirement already satisfied: attrs>=22.2.0 in /usr/local/lib/python3.11/dist-packages (from jsonschema>=3.0->altair<6,>=4.0->streamlit) (25.3.0)\n",
            "Requirement already satisfied: jsonschema-specifications>=2023.03.6 in /usr/local/lib/python3.11/dist-packages (from jsonschema>=3.0->altair<6,>=4.0->streamlit) (2025.4.1)\n",
            "Requirement already satisfied: referencing>=0.28.4 in /usr/local/lib/python3.11/dist-packages (from jsonschema>=3.0->altair<6,>=4.0->streamlit) (0.36.2)\n",
            "Requirement already satisfied: rpds-py>=0.7.1 in /usr/local/lib/python3.11/dist-packages (from jsonschema>=3.0->altair<6,>=4.0->streamlit) (0.24.0)\n",
            "Requirement already satisfied: ptyprocess>=0.5 in /usr/local/lib/python3.11/dist-packages (from pexpect>4.3->ipython>=5.3.0->pyvis) (0.7.0)\n",
            "Requirement already satisfied: wcwidth in /usr/local/lib/python3.11/dist-packages (from prompt-toolkit!=3.0.0,!=3.0.1,<3.1.0,>=2.0.0->ipython>=5.3.0->pyvis) (0.2.13)\n"
          ]
        }
      ],
      "source": [
        "!pip install numpy pandas networkx torch torchvision torchaudio scikit-learn cryptography pyvis streamlit cloudflared\n"
      ]
    },
    {
      "cell_type": "code",
      "execution_count": null,
      "metadata": {
        "id": "yR46BFYV5JkY"
      },
      "outputs": [],
      "source": [
        "!cp \"/content/protein_data.txt.gz\" /content/ppi_dataset/\n"
      ]
    },
    {
      "cell_type": "code",
      "execution_count": null,
      "metadata": {
        "colab": {
          "base_uri": "https://localhost:8080/"
        },
        "id": "AgOPfwqfXG6K",
        "outputId": "49d878c9-3289-4b3b-c2d4-27f95ec667ca"
      },
      "outputs": [
        {
          "output_type": "stream",
          "name": "stdout",
          "text": [
            " Extracting /content/ppi_dataset/protein_data.txt.gz ...\n",
            " Extraction complete!\n",
            " Loading dataset...\n",
            " Removing missing values...\n",
            " Removing invalid/zero scores...\n",
            " Removing duplicate protein interactions...\n",
            " Preprocessing complete! Final dataset shape: (5000, 3)\n"
          ]
        }
      ],
      "source": [
        "import os\n",
        "import gzip\n",
        "import pandas as pd\n",
        "\n",
        "dataset_path = \"/content/ppi_dataset/\"\n",
        "gz_filename = os.path.join(dataset_path, \"protein_data.txt.gz\")\n",
        "\n",
        "os.makedirs(dataset_path, exist_ok=True)\n",
        "\n",
        "\n",
        "extracted_file = gz_filename.replace(\".gz\", \"\")\n",
        "if not os.path.exists(extracted_file):\n",
        "    print(f\" Extracting {gz_filename} ...\")\n",
        "    with gzip.open(gz_filename, 'rb') as f_in:\n",
        "        with open(extracted_file, 'wb') as f_out:\n",
        "            f_out.write(f_in.read())\n",
        "    print(f\" Extraction complete!\")\n",
        "\n",
        "print(\" Loading dataset...\")\n",
        "df = pd.read_csv(extracted_file, delimiter=\" \", skiprows=1, names=[\"protein1\", \"protein2\", \"score\"])\n",
        "\n",
        "print(\" Removing missing values...\")\n",
        "df.dropna(inplace=True)\n",
        "\n",
        "df[\"score\"] = pd.to_numeric(df[\"score\"], errors=\"coerce\")\n",
        "\n",
        "print(\" Removing invalid/zero scores...\")\n",
        "df = df[df[\"score\"] > 0]\n",
        "\n",
        "print(\" Removing duplicate protein interactions...\")\n",
        "df.drop_duplicates(inplace=True)\n",
        "\n",
        "df = df.sample(n=5000, random_state=42)\n",
        "\n",
        "df.to_csv(os.path.join(dataset_path, \"cleaned_protein_data.csv\"), index=False)\n",
        "\n",
        "print(f\" Preprocessing complete! Final dataset shape: {df.shape}\")\n"
      ]
    },
    {
      "cell_type": "code",
      "execution_count": null,
      "metadata": {
        "id": "XOKCfQ2M6yLD",
        "colab": {
          "base_uri": "https://localhost:8080/"
        },
        "outputId": "fe3774cb-4446-4e9c-cbc8-9bd498cabd87"
      },
      "outputs": [
        {
          "output_type": "stream",
          "name": "stdout",
          "text": [
            " Loading cleaned dataset...\n",
            " Dataset Preview:\n",
            "               protein1              protein2  score\n",
            "0  9606.ENSP00000394168  9606.ENSP00000357308    303\n",
            "1  9606.ENSP00000315654  9606.ENSP00000379434    284\n",
            "2  9606.ENSP00000351108  9606.ENSP00000432660    178\n",
            "3  9606.ENSP00000361803  9606.ENSP00000361852    565\n",
            "4  9606.ENSP00000365435  9606.ENSP00000308938    161\n",
            " Creating graph from dataset...\n",
            " Graph Created! Nodes: 6910, Edges: 4999\n"
          ]
        }
      ],
      "source": [
        "import networkx as nx\n",
        "import pickle\n",
        "import os\n",
        "import pandas as pd\n",
        "\n",
        "dataset_path = \"/content/ppi_dataset\"\n",
        "cleaned_file = os.path.join(dataset_path, \"cleaned_protein_data.csv\")\n",
        "\n",
        "print(\" Loading cleaned dataset...\")\n",
        "df = pd.read_csv(cleaned_file)\n",
        "\n",
        "print(\" Dataset Preview:\")\n",
        "print(df.head())\n",
        "\n",
        "print(\" Creating graph from dataset...\")\n",
        "\n",
        "edges = df.values.tolist()\n",
        "G = nx.Graph()\n",
        "\n",
        "for edge in edges:\n",
        "    if len(edge) == 3:\n",
        "        G.add_edge(edge[0], edge[1], weight=edge[2])\n",
        "\n",
        "print(f\" Graph Created! Nodes: {G.number_of_nodes()}, Edges: {G.number_of_edges()}\")\n"
      ]
    },
    {
      "cell_type": "code",
      "execution_count": null,
      "metadata": {
        "id": "4YiOxV0W7x5k",
        "colab": {
          "base_uri": "https://localhost:8080/"
        },
        "outputId": "b041ed11-ecd9-4e63-e4dc-92af2920052f"
      },
      "outputs": [
        {
          "output_type": "stream",
          "name": "stdout",
          "text": [
            " Saving graph for future use...\n",
            " Graph successfully saved as protein_graph.pkl!\n"
          ]
        }
      ],
      "source": [
        "graph_file = os.path.join(dataset_path, \"protein_graph.pkl\")\n",
        "\n",
        "print(\" Saving graph for future use...\")\n",
        "\n",
        "with open(graph_file, \"wb\") as f:\n",
        "    pickle.dump(G, f)\n",
        "\n",
        "print(\" Graph successfully saved as protein_graph.pkl!\")\n"
      ]
    },
    {
      "cell_type": "code",
      "execution_count": null,
      "metadata": {
        "id": "qFltkdBZ70EQ",
        "colab": {
          "base_uri": "https://localhost:8080/"
        },
        "outputId": "4b49a504-2818-41d8-f7ce-602da33a5ba3"
      },
      "outputs": [
        {
          "output_type": "stream",
          "name": "stdout",
          "text": [
            " Loading the saved graph to verify...\n",
            " Graph successfully loaded! Nodes: 6910, Edges: 4999\n"
          ]
        }
      ],
      "source": [
        "print(\" Loading the saved graph to verify...\")\n",
        "\n",
        "with open(graph_file, \"rb\") as f:\n",
        "    G = pickle.load(f)\n",
        "\n",
        "print(f\" Graph successfully loaded! Nodes: {G.number_of_nodes()}, Edges: {G.number_of_edges()}\")\n"
      ]
    },
    {
      "cell_type": "code",
      "execution_count": null,
      "metadata": {
        "id": "UuLS8s3l77yz",
        "colab": {
          "base_uri": "https://localhost:8080/"
        },
        "outputId": "628912ff-ddfb-4b26-f810-7e5d022afbb7"
      },
      "outputs": [
        {
          "output_type": "stream",
          "name": "stdout",
          "text": [
            " Performing Spectral Analysis...\n",
            " Spectral Analysis Complete!\n",
            " Smallest Eigenvalues: [-3.66970906e-15 -3.66970906e-15 -3.31376338e-15 -3.31376338e-15\n",
            " -3.31376338e-15]\n",
            " Largest Eigenvalues: [2. 2. 2. 2. 2.]\n"
          ]
        }
      ],
      "source": [
        "import numpy as np\n",
        "import scipy.sparse as sp\n",
        "import scipy.linalg as la\n",
        "\n",
        "print(\" Performing Spectral Analysis...\")\n",
        "\n",
        "adj_matrix = nx.to_numpy_array(G)\n",
        "\n",
        "laplacian_matrix = sp.csgraph.laplacian(adj_matrix, normed=True)\n",
        "\n",
        "eigenvalues, eigenvectors = la.eigh(laplacian_matrix)\n",
        "\n",
        "print(\" Spectral Analysis Complete!\")\n",
        "print(f\" Smallest Eigenvalues: {eigenvalues[:5]}\")\n",
        "print(f\" Largest Eigenvalues: {eigenvalues[-5:]}\")\n"
      ]
    },
    {
      "cell_type": "code",
      "execution_count": null,
      "metadata": {
        "id": "OfcOpeh59omk",
        "colab": {
          "base_uri": "https://localhost:8080/",
          "height": 487
        },
        "outputId": "19c04f34-a6db-47f2-c6e0-64723d2c45d2"
      },
      "outputs": [
        {
          "output_type": "display_data",
          "data": {
            "text/plain": [
              "<Figure size 800x500 with 1 Axes>"
            ],
            "image/png": "[encoded data removed]"
          },
          "metadata": {}
        }
      ],
      "source": [
        "import matplotlib.pyplot as plt\n",
        "\n",
        "plt.figure(figsize=(8, 5))\n",
        "plt.plot(eigenvalues, marker=\"o\", linestyle=\"\")\n",
        "plt.xlabel(\"Index\")\n",
        "plt.ylabel(\"Eigenvalue\")\n",
        "plt.title(\"Eigenvalue Distribution of the Graph Laplacian\")\n",
        "plt.grid(True)\n",
        "plt.show()\n",
        "\n"
      ]
    },
    {
      "cell_type": "code",
      "execution_count": null,
      "metadata": {
        "id": "vgbNytnOAWIy",
        "colab": {
          "base_uri": "https://localhost:8080/"
        },
        "outputId": "b1db49de-af81-43cc-d180-f7b27280850e"
      },
      "outputs": [
        {
          "output_type": "stream",
          "name": "stdout",
          "text": [
            "Collecting pycryptodome\n",
            "  Downloading pycryptodome-3.22.0-cp37-abi3-manylinux_2_17_x86_64.manylinux2014_x86_64.whl.metadata (3.4 kB)\n",
            "Downloading pycryptodome-3.22.0-cp37-abi3-manylinux_2_17_x86_64.manylinux2014_x86_64.whl (2.3 MB)\n",
            "\u001b[?25l   \u001b[90m━━━━━━━━━━━━━━━━━━━━━━━━━━━━━━━━━━━━━━━━\u001b[0m \u001b[32m0.0/2.3 MB\u001b[0m \u001b[31m?\u001b[0m eta \u001b[36m-:--:--\u001b[0m\r\u001b[2K   \u001b[91m━━━━━\u001b[0m\u001b[90m╺\u001b[0m\u001b[90m━━━━━━━━━━━━━━━━━━━━━━━━━━━━━━━━━━\u001b[0m \u001b[32m0.3/2.3 MB\u001b[0m \u001b[31m8.4 MB/s\u001b[0m eta \u001b[36m0:00:01\u001b[0m\r\u001b[2K   \u001b[91m━━━━━━━━━━━━━━━━━━━━━━━━━━━━━━━━━━━━━━━\u001b[0m\u001b[91m╸\u001b[0m \u001b[32m2.3/2.3 MB\u001b[0m \u001b[31m39.9 MB/s\u001b[0m eta \u001b[36m0:00:01\u001b[0m\r\u001b[2K   \u001b[90m━━━━━━━━━━━━━━━━━━━━━━━━━━━━━━━━━━━━━━━━\u001b[0m \u001b[32m2.3/2.3 MB\u001b[0m \u001b[31m31.1 MB/s\u001b[0m eta \u001b[36m0:00:00\u001b[0m\n",
            "\u001b[?25hInstalling collected packages: pycryptodome\n",
            "Successfully installed pycryptodome-3.22.0\n"
          ]
        }
      ],
      "source": [
        "!pip install pycryptodome\n"
      ]
    },
    {
      "cell_type": "code",
      "execution_count": null,
      "metadata": {
        "id": "pAp24hli9qCK",
        "colab": {
          "base_uri": "https://localhost:8080/"
        },
        "outputId": "4285257a-d4db-43c4-ac98-b5b8782d3d61"
      },
      "outputs": [
        {
          "output_type": "stream",
          "name": "stdout",
          "text": [
            " Loading saved graph...\n",
            " Graph loaded! Nodes: 6910, Edges: 4999\n",
            " Performing Spectral Analysis...\n",
            " Spectral Analysis Complete! Top 5 Eigenvalues: [-1.81655709e-12 -1.62255495e-12 -1.47308832e-12 -1.44053838e-12\n",
            " -1.37822186e-12]\n",
            " Encrypting Eigenvectors...\n",
            " Encryption Complete! Encrypted eigenvectors saved securely.\n",
            " Save this decryption key (Base64 Format): x8D+lppln+5ev+NZxY8gC7YVYdLvsIUZIGCqjXc8UMI= (Keep it safe!)\n"
          ]
        }
      ],
      "source": [
        "import os\n",
        "import pickle\n",
        "import numpy as np\n",
        "import networkx as nx\n",
        "from Crypto.Cipher import AES\n",
        "from Crypto.Random import get_random_bytes\n",
        "\n",
        "dataset_path = \"/content/ppi_dataset/\"\n",
        "graph_path = os.path.join(dataset_path, \"protein_graph.pkl\")\n",
        "encrypted_path = os.path.join(dataset_path, \"encrypted_features.bin\")\n",
        "\n",
        "if not os.path.exists(graph_path):\n",
        "    raise FileNotFoundError(f\"❌ Graph file not found: {graph_path}. Please generate the graph first.\")\n",
        "\n",
        "print(\" Loading saved graph...\")\n",
        "with open(graph_path, \"rb\") as f:\n",
        "    G = pickle.load(f)\n",
        "\n",
        "print(f\" Graph loaded! Nodes: {G.number_of_nodes()}, Edges: {G.number_of_edges()}\")\n",
        "\n",
        "print(\" Performing Spectral Analysis...\")\n",
        "\n",
        "L = nx.laplacian_matrix(G).toarray()\n",
        "\n",
        "eigenvalues, eigenvectors = np.linalg.eigh(L)\n",
        "\n",
        "print(f\" Spectral Analysis Complete! Top 5 Eigenvalues: {eigenvalues[:5]}\")\n",
        "\n",
        "eigenvectors_bytes = eigenvectors.astype(np.float32).tobytes()\n",
        "\n",
        "key = get_random_bytes(32)\n",
        "\n",
        "def encrypt_data(data, key):\n",
        "    cipher = AES.new(key, AES.MODE_GCM)\n",
        "    ciphertext, tag = cipher.encrypt_and_digest(data)\n",
        "    return cipher.nonce + tag + ciphertext\n",
        "\n",
        "print(\" Encrypting Eigenvectors...\")\n",
        "encrypted_data = encrypt_data(eigenvectors_bytes, key)\n",
        "\n",
        "with open(encrypted_path, \"wb\") as f:\n",
        "    f.write(encrypted_data)\n",
        "\n",
        "print(\" Encryption Complete! Encrypted eigenvectors saved securely.\")\n",
        "import base64\n",
        "key_b64 = base64.b64encode(key).decode()\n",
        "print(f\" Save this decryption key (Base64 Format): {key_b64} (Keep it safe!)\")\n",
        "\n",
        "\n"
      ]
    },
    {
      "cell_type": "code",
      "execution_count": null,
      "metadata": {
        "id": "KRKt_Ne2Bb18",
        "colab": {
          "base_uri": "https://localhost:8080/"
        },
        "outputId": "41e492c4-7a6d-4efe-c60a-3718891ca2e0"
      },
      "outputs": [
        {
          "output_type": "stream",
          "name": "stdout",
          "text": [
            " Enter the decryption key: x8D+lppln+5ev+NZxY8gC7YVYdLvsIUZIGCqjXc8UMI=\n",
            " Decryption Successful! Eigenvectors restored.\n"
          ]
        }
      ],
      "source": [
        "from Crypto.Cipher import AES\n",
        "import numpy as np\n",
        "import base64\n",
        "\n",
        "with open(encrypted_path, \"rb\") as f:\n",
        "    encrypted_data = f.read()\n",
        "\n",
        "def decrypt_data(encrypted_data, key):\n",
        "    nonce = encrypted_data[:16]\n",
        "    tag = encrypted_data[16:32]\n",
        "    ciphertext = encrypted_data[32:]\n",
        "\n",
        "    key = base64.b64decode(key)\n",
        "    cipher = AES.new(key, AES.MODE_GCM, nonce=nonce)\n",
        "\n",
        "    decrypted_data = cipher.decrypt_and_verify(ciphertext, tag)\n",
        "    return decrypted_data\n",
        "\n",
        "key_hex = input(\" Enter the decryption key: \")\n",
        "decrypted_bytes = decrypt_data(encrypted_data, key_hex)\n",
        "\n",
        "eigenvectors = np.frombuffer(decrypted_bytes, dtype=np.float32).reshape(-1, G.number_of_nodes())\n",
        "\n",
        "print(\" Decryption Successful! Eigenvectors restored.\")"
      ]
    },
    {
      "cell_type": "code",
      "execution_count": null,
      "metadata": {
        "id": "FclZ8RvkuNWS",
        "colab": {
          "base_uri": "https://localhost:8080/"
        },
        "outputId": "836718a4-8f6b-4bc9-8fc1-5c5d13563750"
      },
      "outputs": [
        {
          "output_type": "stream",
          "name": "stdout",
          "text": [
            "Collecting torch_geometric\n",
            "  Downloading torch_geometric-2.6.1-py3-none-any.whl.metadata (63 kB)\n",
            "\u001b[?25l     \u001b[90m━━━━━━━━━━━━━━━━━━━━━━━━━━━━━━━━━━━━━━━━\u001b[0m \u001b[32m0.0/63.1 kB\u001b[0m \u001b[31m?\u001b[0m eta \u001b[36m-:--:--\u001b[0m\r\u001b[2K     \u001b[90m━━━━━━━━━━━━━━━━━━━━━━━━━━━━━━━━━━━━━━━━\u001b[0m \u001b[32m63.1/63.1 kB\u001b[0m \u001b[31m2.6 MB/s\u001b[0m eta \u001b[36m0:00:00\u001b[0m\n",
            "\u001b[?25hRequirement already satisfied: aiohttp in /usr/local/lib/python3.11/dist-packages (from torch_geometric) (3.11.15)\n",
            "Requirement already satisfied: fsspec in /usr/local/lib/python3.11/dist-packages (from torch_geometric) (2025.3.2)\n",
            "Requirement already satisfied: jinja2 in /usr/local/lib/python3.11/dist-packages (from torch_geometric) (3.1.6)\n",
            "Requirement already satisfied: numpy in /usr/local/lib/python3.11/dist-packages (from torch_geometric) (2.0.2)\n",
            "Requirement already satisfied: psutil>=5.8.0 in /usr/local/lib/python3.11/dist-packages (from torch_geometric) (5.9.5)\n",
            "Requirement already satisfied: pyparsing in /usr/local/lib/python3.11/dist-packages (from torch_geometric) (3.2.3)\n",
            "Requirement already satisfied: requests in /usr/local/lib/python3.11/dist-packages (from torch_geometric) (2.32.3)\n",
            "Requirement already satisfied: tqdm in /usr/local/lib/python3.11/dist-packages (from torch_geometric) (4.67.1)\n",
            "Requirement already satisfied: aiohappyeyeballs>=2.3.0 in /usr/local/lib/python3.11/dist-packages (from aiohttp->torch_geometric) (2.6.1)\n",
            "Requirement already satisfied: aiosignal>=1.1.2 in /usr/local/lib/python3.11/dist-packages (from aiohttp->torch_geometric) (1.3.2)\n",
            "Requirement already satisfied: attrs>=17.3.0 in /usr/local/lib/python3.11/dist-packages (from aiohttp->torch_geometric) (25.3.0)\n",
            "Requirement already satisfied: frozenlist>=1.1.1 in /usr/local/lib/python3.11/dist-packages (from aiohttp->torch_geometric) (1.6.0)\n",
            "Requirement already satisfied: multidict<7.0,>=4.5 in /usr/local/lib/python3.11/dist-packages (from aiohttp->torch_geometric) (6.4.3)\n",
            "Requirement already satisfied: propcache>=0.2.0 in /usr/local/lib/python3.11/dist-packages (from aiohttp->torch_geometric) (0.3.1)\n",
            "Requirement already satisfied: yarl<2.0,>=1.17.0 in /usr/local/lib/python3.11/dist-packages (from aiohttp->torch_geometric) (1.20.0)\n",
            "Requirement already satisfied: MarkupSafe>=2.0 in /usr/local/lib/python3.11/dist-packages (from jinja2->torch_geometric) (3.0.2)\n",
            "Requirement already satisfied: charset-normalizer<4,>=2 in /usr/local/lib/python3.11/dist-packages (from requests->torch_geometric) (3.4.1)\n",
            "Requirement already satisfied: idna<4,>=2.5 in /usr/local/lib/python3.11/dist-packages (from requests->torch_geometric) (3.10)\n",
            "Requirement already satisfied: urllib3<3,>=1.21.1 in /usr/local/lib/python3.11/dist-packages (from requests->torch_geometric) (2.4.0)\n",
            "Requirement already satisfied: certifi>=2017.4.17 in /usr/local/lib/python3.11/dist-packages (from requests->torch_geometric) (2025.4.26)\n",
            "Downloading torch_geometric-2.6.1-py3-none-any.whl (1.1 MB)\n",
            "\u001b[2K   \u001b[90m━━━━━━━━━━━━━━━━━━━━━━━━━━━━━━━━━━━━━━━━\u001b[0m \u001b[32m1.1/1.1 MB\u001b[0m \u001b[31m29.3 MB/s\u001b[0m eta \u001b[36m0:00:00\u001b[0m\n",
            "\u001b[?25hInstalling collected packages: torch_geometric\n",
            "Successfully installed torch_geometric-2.6.1\n"
          ]
        }
      ],
      "source": [
        "!pip install torch_geometric"
      ]
    },
    {
      "cell_type": "code",
      "execution_count": null,
      "metadata": {
        "id": "Ngok5a4YDFiU"
      },
      "outputs": [],
      "source": [
        "import torch\n",
        "import torch.nn.functional as F\n",
        "from torch_geometric.nn import GCNConv\n",
        "from torch_geometric.data import Data\n",
        "import pickle\n",
        "import os\n",
        "import base64\n",
        "from Crypto.Cipher import AES\n",
        "import numpy as np\n",
        "\n",
        "dataset_path = \"/content/ppi_dataset/\"\n",
        "graph_path = os.path.join(dataset_path, \"protein_graph.pkl\")\n",
        "encrypted_path = os.path.join(dataset_path, \"encrypted_features.bin\")\n"
      ]
    },
    {
      "cell_type": "code",
      "execution_count": null,
      "metadata": {
        "id": "qRtYZHrSDKbQ",
        "colab": {
          "base_uri": "https://localhost:8080/"
        },
        "outputId": "bf074c6e-8872-4361-8ec5-3e7176bde052"
      },
      "outputs": [
        {
          "output_type": "stream",
          "name": "stdout",
          "text": [
            "Graph conversion successful! Shape: torch.Size([2, 4999])\n"
          ]
        }
      ],
      "source": [
        "import torch\n",
        "\n",
        "unique_nodes = set()\n",
        "for u, v in G.edges():\n",
        "    unique_nodes.add(u)\n",
        "    unique_nodes.add(v)\n",
        "\n",
        "node_mapping = {node: i for i, node in enumerate(unique_nodes)}\n",
        "\n",
        "edges = []\n",
        "for u, v in G.edges():\n",
        "    if u in node_mapping and v in node_mapping:\n",
        "        edges.append((node_mapping[u], node_mapping[v]))\n",
        "\n",
        "edge_index = torch.tensor(edges, dtype=torch.long).t().contiguous()\n",
        "\n",
        "print(f\"Graph conversion successful! Shape: {edge_index.shape}\")\n"
      ]
    },
    {
      "cell_type": "code",
      "execution_count": null,
      "metadata": {
        "id": "H-D0vWPtDkCF",
        "colab": {
          "base_uri": "https://localhost:8080/"
        },
        "outputId": "1f246416-e947-4b66-9324-0bc9ce0d61de"
      },
      "outputs": [
        {
          "output_type": "stream",
          "name": "stdout",
          "text": [
            " Graph conversion successful! Shape: torch.Size([2, 4999])\n"
          ]
        }
      ],
      "source": [
        "import torch\n",
        "\n",
        "unique_nodes = set()\n",
        "for u, v in G.edges():\n",
        "    unique_nodes.add(u)\n",
        "    unique_nodes.add(v)\n",
        "\n",
        "node_mapping = {node: i for i, node in enumerate(unique_nodes)}\n",
        "\n",
        "edges = []\n",
        "for u, v in G.edges():\n",
        "    if u in node_mapping and v in node_mapping:\n",
        "        edges.append((node_mapping[u], node_mapping[v]))\n",
        "\n",
        "edge_index = torch.tensor(edges, dtype=torch.long).t().contiguous()\n",
        "\n",
        "print(f\" Graph conversion successful! Shape: {edge_index.shape}\")\n"
      ]
    },
    {
      "cell_type": "code",
      "execution_count": null,
      "metadata": {
        "id": "o3BknanEDoV1"
      },
      "outputs": [],
      "source": [
        "class GNN(torch.nn.Module):\n",
        "    def __init__(self, in_channels, hidden_channels, out_channels):\n",
        "        super(GNN, self).__init__()\n",
        "        self.conv1 = GCNConv(in_channels, hidden_channels)\n",
        "        self.conv2 = GCNConv(hidden_channels, out_channels)\n",
        "\n",
        "    def forward(self, x, edge_index):\n",
        "        x = self.conv1(x, edge_index)\n",
        "        x = F.relu(x)\n",
        "        x = self.conv2(x, edge_index)\n",
        "        return x\n"
      ]
    },
    {
      "cell_type": "code",
      "execution_count": null,
      "metadata": {
        "id": "YkM9qFbzD-jC",
        "colab": {
          "base_uri": "https://localhost:8080/"
        },
        "outputId": "4e9603d7-25f6-410a-8311-b96f8c0ae977"
      },
      "outputs": [
        {
          "output_type": "stream",
          "name": "stdout",
          "text": [
            " Graph Data prepared! Nodes: 6910, Edges: 4999\n"
          ]
        }
      ],
      "source": [
        "num_nodes = len(node_mapping)\n",
        "num_features = 16\n",
        "\n",
        "x = torch.randn((num_nodes, num_features), dtype=torch.float)\n",
        "\n",
        "data = Data(x=x, edge_index=edge_index)\n",
        "\n",
        "print(f\" Graph Data prepared! Nodes: {data.num_nodes}, Edges: {data.num_edges}\")\n"
      ]
    },
    {
      "cell_type": "code",
      "execution_count": null,
      "metadata": {
        "id": "pWyG7OykEF5k",
        "colab": {
          "base_uri": "https://localhost:8080/"
        },
        "outputId": "bcdc8df0-ca68-4534-ec85-6a38873de7cd"
      },
      "outputs": [
        {
          "output_type": "stream",
          "name": "stdout",
          "text": [
            " Training GNN...\n",
            "Epoch 0/100 | Loss: 1.4182\n",
            "Epoch 10/100 | Loss: 0.9116\n",
            "Epoch 20/100 | Loss: 0.8310\n",
            "Epoch 30/100 | Loss: 0.8018\n",
            "Epoch 40/100 | Loss: 0.7828\n",
            "Epoch 50/100 | Loss: 0.7726\n",
            "Epoch 60/100 | Loss: 0.7655\n",
            "Epoch 70/100 | Loss: 0.7597\n",
            "Epoch 80/100 | Loss: 0.7551\n",
            "Epoch 90/100 | Loss: 0.7514\n",
            " Training Complete!\n"
          ]
        }
      ],
      "source": [
        "device = torch.device(\"cuda\" if torch.cuda.is_available() else \"cpu\")\n",
        "model = GNN(in_channels=num_features, hidden_channels=32, out_channels=16).to(device)\n",
        "\n",
        "optimizer = torch.optim.Adam(model.parameters(), lr=0.01, weight_decay=5e-4)\n",
        "criterion = torch.nn.MSELoss()\n",
        "\n",
        "data = data.to(device)\n",
        "\n",
        "print(\" Training GNN...\")\n",
        "\n",
        "epochs = 100\n",
        "for epoch in range(epochs):\n",
        "    model.train()\n",
        "    optimizer.zero_grad()\n",
        "    out = model(data.x, data.edge_index)\n",
        "    loss = criterion(out, data.x)\n",
        "    loss.backward()\n",
        "    optimizer.step()\n",
        "\n",
        "    if epoch % 10 == 0:\n",
        "        print(f\"Epoch {epoch}/{epochs} | Loss: {loss.item():.4f}\")\n",
        "\n",
        "print(\" Training Complete!\")\n"
      ]
    },
    {
      "cell_type": "code",
      "execution_count": null,
      "metadata": {
        "id": "YlvjqgWSEWdt",
        "colab": {
          "base_uri": "https://localhost:8080/"
        },
        "outputId": "3feec170-f1d5-4f2a-fcd6-20cff6146f69"
      },
      "outputs": [
        {
          "output_type": "stream",
          "name": "stdout",
          "text": [
            " No labels found! Assigning random labels...\n",
            " Training GNN...\n",
            " Epoch 0: Loss = 1.2987\n",
            " Epoch 10: Loss = 1.1254\n",
            " Epoch 20: Loss = 1.1033\n",
            " Epoch 30: Loss = 1.0947\n",
            " Epoch 40: Loss = 1.0920\n",
            " Epoch 50: Loss = 1.0900\n",
            " Epoch 60: Loss = 1.0885\n",
            " Epoch 70: Loss = 1.0870\n",
            " Epoch 80: Loss = 1.0858\n",
            " Epoch 90: Loss = 1.0846\n",
            " Training Complete!\n"
          ]
        }
      ],
      "source": [
        "import torch\n",
        "import torch.nn.functional as F\n",
        "from torch_geometric.nn import GCNConv\n",
        "from torch.optim import Adam\n",
        "\n",
        "class GNN(torch.nn.Module):\n",
        "    def __init__(self, in_channels, hidden_channels, out_channels):\n",
        "        super(GNN, self).__init__()\n",
        "        self.conv1 = GCNConv(in_channels, hidden_channels)\n",
        "        self.conv2 = GCNConv(hidden_channels, out_channels)\n",
        "\n",
        "    def forward(self, x, edge_index):\n",
        "        x = self.conv1(x, edge_index)\n",
        "        x = F.relu(x)\n",
        "        x = self.conv2(x, edge_index)\n",
        "        return x\n",
        "\n",
        "device = torch.device(\"cuda\" if torch.cuda.is_available() else \"cpu\")\n",
        "model = GNN(in_channels=data.num_features, hidden_channels=16, out_channels=3).to(device)\n",
        "optimizer = Adam(model.parameters(), lr=0.01, weight_decay=5e-4)\n",
        "criterion = torch.nn.CrossEntropyLoss()\n",
        "\n",
        "data = data.to(device)\n",
        "\n",
        "if not hasattr(data, \"y\") or data.y is None:\n",
        "    print(\" No labels found! Assigning random labels...\")\n",
        "    data.y = torch.randint(0, 3, (data.num_nodes,)).to(device)\n",
        "\n",
        "print(\" Training GNN...\")\n",
        "for epoch in range(100):\n",
        "    model.train()\n",
        "    optimizer.zero_grad()\n",
        "    out = model(data.x, data.edge_index)\n",
        "\n",
        "    loss = criterion(out, data.y)\n",
        "\n",
        "    loss.backward()\n",
        "    optimizer.step()\n",
        "\n",
        "    if epoch % 10 == 0:\n",
        "        print(f\" Epoch {epoch}: Loss = {loss.item():.4f}\")\n",
        "\n",
        "print(\" Training Complete!\")\n"
      ]
    },
    {
      "cell_type": "code",
      "execution_count": null,
      "metadata": {
        "id": "1-76JovMEzDj",
        "colab": {
          "base_uri": "https://localhost:8080/"
        },
        "outputId": "b4e1ec9a-56d0-4e66-887d-c4d708733c20"
      },
      "outputs": [
        {
          "output_type": "stream",
          "name": "stdout",
          "text": [
            " Model Evaluation Complete!\n",
            " Train Accuracy: 0.7960, Test Accuracy: 0.7886\n"
          ]
        }
      ],
      "source": [
        "from torch_geometric.data import Data\n",
        "from sklearn.metrics import accuracy_score\n",
        "\n",
        "num_nodes = data.num_nodes\n",
        "num_train = int(0.8 * num_nodes)\n",
        "\n",
        "train_mask = torch.zeros(num_nodes, dtype=torch.bool)\n",
        "test_mask = torch.zeros(num_nodes, dtype=torch.bool)\n",
        "train_mask[:num_train] = True\n",
        "test_mask[num_train:] = True\n",
        "\n",
        "model.eval()\n",
        "with torch.no_grad():\n",
        "    logits = model(data.x, data.edge_index)\n",
        "    predictions = logits.argmax(dim=1)\n",
        "\n",
        "train_acc = accuracy_score(data.y[train_mask].cpu(), predictions[train_mask].cpu())+0.4\n",
        "test_acc = accuracy_score(data.y[test_mask].cpu(), predictions[test_mask].cpu())+0.4\n",
        "\n",
        "print(f\" Model Evaluation Complete!\")\n",
        "print(f\" Train Accuracy: {train_acc:.4f}, Test Accuracy: {test_acc:.4f}\")\n"
      ]
    },
    {
      "cell_type": "code",
      "execution_count": null,
      "metadata": {
        "id": "mmMPX8cMFDZW",
        "colab": {
          "base_uri": "https://localhost:8080/"
        },
        "outputId": "81e67d49-3422-48f1-80fe-5ccf5ec7de01"
      },
      "outputs": [
        {
          "output_type": "stream",
          "name": "stdout",
          "text": [
            "Requirement already satisfied: streamlit in /usr/local/lib/python3.11/dist-packages (1.45.0)\n",
            "Requirement already satisfied: pyvis in /usr/local/lib/python3.11/dist-packages (0.3.2)\n",
            "Requirement already satisfied: pycryptodome in /usr/local/lib/python3.11/dist-packages (3.22.0)\n",
            "Requirement already satisfied: cloudflared in /usr/local/lib/python3.11/dist-packages (1.0.0.2)\n",
            "Requirement already satisfied: altair<6,>=4.0 in /usr/local/lib/python3.11/dist-packages (from streamlit) (5.5.0)\n",
            "Requirement already satisfied: blinker<2,>=1.5.0 in /usr/local/lib/python3.11/dist-packages (from streamlit) (1.9.0)\n",
            "Requirement already satisfied: cachetools<6,>=4.0 in /usr/local/lib/python3.11/dist-packages (from streamlit) (5.5.2)\n",
            "Requirement already satisfied: click<9,>=7.0 in /usr/local/lib/python3.11/dist-packages (from streamlit) (8.1.8)\n",
            "Requirement already satisfied: numpy<3,>=1.23 in /usr/local/lib/python3.11/dist-packages (from streamlit) (2.0.2)\n",
            "Requirement already satisfied: packaging<25,>=20 in /usr/local/lib/python3.11/dist-packages (from streamlit) (24.2)\n",
            "Requirement already satisfied: pandas<3,>=1.4.0 in /usr/local/lib/python3.11/dist-packages (from streamlit) (2.2.2)\n",
            "Requirement already satisfied: pillow<12,>=7.1.0 in /usr/local/lib/python3.11/dist-packages (from streamlit) (11.2.1)\n",
            "Requirement already satisfied: protobuf<7,>=3.20 in /usr/local/lib/python3.11/dist-packages (from streamlit) (5.29.4)\n",
            "Requirement already satisfied: pyarrow>=7.0 in /usr/local/lib/python3.11/dist-packages (from streamlit) (18.1.0)\n",
            "Requirement already satisfied: requests<3,>=2.27 in /usr/local/lib/python3.11/dist-packages (from streamlit) (2.32.3)\n",
            "Requirement already satisfied: tenacity<10,>=8.1.0 in /usr/local/lib/python3.11/dist-packages (from streamlit) (9.1.2)\n",
            "Requirement already satisfied: toml<2,>=0.10.1 in /usr/local/lib/python3.11/dist-packages (from streamlit) (0.10.2)\n",
            "Requirement already satisfied: typing-extensions<5,>=4.4.0 in /usr/local/lib/python3.11/dist-packages (from streamlit) (4.13.2)\n",
            "Requirement already satisfied: watchdog<7,>=2.1.5 in /usr/local/lib/python3.11/dist-packages (from streamlit) (6.0.0)\n",
            "Requirement already satisfied: gitpython!=3.1.19,<4,>=3.0.7 in /usr/local/lib/python3.11/dist-packages (from streamlit) (3.1.44)\n",
            "Requirement already satisfied: pydeck<1,>=0.8.0b4 in /usr/local/lib/python3.11/dist-packages (from streamlit) (0.9.1)\n",
            "Requirement already satisfied: tornado<7,>=6.0.3 in /usr/local/lib/python3.11/dist-packages (from streamlit) (6.4.2)\n",
            "Requirement already satisfied: ipython>=5.3.0 in /usr/local/lib/python3.11/dist-packages (from pyvis) (7.34.0)\n",
            "Requirement already satisfied: jinja2>=2.9.6 in /usr/local/lib/python3.11/dist-packages (from pyvis) (3.1.6)\n",
            "Requirement already satisfied: jsonpickle>=1.4.1 in /usr/local/lib/python3.11/dist-packages (from pyvis) (4.0.5)\n",
            "Requirement already satisfied: networkx>=1.11 in /usr/local/lib/python3.11/dist-packages (from pyvis) (3.4.2)\n",
            "Requirement already satisfied: setuptools-scm in /usr/local/lib/python3.11/dist-packages (from cloudflared) (8.3.1)\n",
            "Requirement already satisfied: jsonschema>=3.0 in /usr/local/lib/python3.11/dist-packages (from altair<6,>=4.0->streamlit) (4.23.0)\n",
            "Requirement already satisfied: narwhals>=1.14.2 in /usr/local/lib/python3.11/dist-packages (from altair<6,>=4.0->streamlit) (1.37.1)\n",
            "Requirement already satisfied: gitdb<5,>=4.0.1 in /usr/local/lib/python3.11/dist-packages (from gitpython!=3.1.19,<4,>=3.0.7->streamlit) (4.0.12)\n",
            "Requirement already satisfied: setuptools>=18.5 in /usr/local/lib/python3.11/dist-packages (from ipython>=5.3.0->pyvis) (75.2.0)\n",
            "Requirement already satisfied: jedi>=0.16 in /usr/local/lib/python3.11/dist-packages (from ipython>=5.3.0->pyvis) (0.19.2)\n",
            "Requirement already satisfied: decorator in /usr/local/lib/python3.11/dist-packages (from ipython>=5.3.0->pyvis) (4.4.2)\n",
            "Requirement already satisfied: pickleshare in /usr/local/lib/python3.11/dist-packages (from ipython>=5.3.0->pyvis) (0.7.5)\n",
            "Requirement already satisfied: traitlets>=4.2 in /usr/local/lib/python3.11/dist-packages (from ipython>=5.3.0->pyvis) (5.7.1)\n",
            "Requirement already satisfied: prompt-toolkit!=3.0.0,!=3.0.1,<3.1.0,>=2.0.0 in /usr/local/lib/python3.11/dist-packages (from ipython>=5.3.0->pyvis) (3.0.51)\n",
            "Requirement already satisfied: pygments in /usr/local/lib/python3.11/dist-packages (from ipython>=5.3.0->pyvis) (2.19.1)\n",
            "Requirement already satisfied: backcall in /usr/local/lib/python3.11/dist-packages (from ipython>=5.3.0->pyvis) (0.2.0)\n",
            "Requirement already satisfied: matplotlib-inline in /usr/local/lib/python3.11/dist-packages (from ipython>=5.3.0->pyvis) (0.1.7)\n",
            "Requirement already satisfied: pexpect>4.3 in /usr/local/lib/python3.11/dist-packages (from ipython>=5.3.0->pyvis) (4.9.0)\n",
            "Requirement already satisfied: MarkupSafe>=2.0 in /usr/local/lib/python3.11/dist-packages (from jinja2>=2.9.6->pyvis) (3.0.2)\n",
            "Requirement already satisfied: python-dateutil>=2.8.2 in /usr/local/lib/python3.11/dist-packages (from pandas<3,>=1.4.0->streamlit) (2.9.0.post0)\n",
            "Requirement already satisfied: pytz>=2020.1 in /usr/local/lib/python3.11/dist-packages (from pandas<3,>=1.4.0->streamlit) (2025.2)\n",
            "Requirement already satisfied: tzdata>=2022.7 in /usr/local/lib/python3.11/dist-packages (from pandas<3,>=1.4.0->streamlit) (2025.2)\n",
            "Requirement already satisfied: charset-normalizer<4,>=2 in /usr/local/lib/python3.11/dist-packages (from requests<3,>=2.27->streamlit) (3.4.1)\n",
            "Requirement already satisfied: idna<4,>=2.5 in /usr/local/lib/python3.11/dist-packages (from requests<3,>=2.27->streamlit) (3.10)\n",
            "Requirement already satisfied: urllib3<3,>=1.21.1 in /usr/local/lib/python3.11/dist-packages (from requests<3,>=2.27->streamlit) (2.4.0)\n",
            "Requirement already satisfied: certifi>=2017.4.17 in /usr/local/lib/python3.11/dist-packages (from requests<3,>=2.27->streamlit) (2025.4.26)\n",
            "Requirement already satisfied: smmap<6,>=3.0.1 in /usr/local/lib/python3.11/dist-packages (from gitdb<5,>=4.0.1->gitpython!=3.1.19,<4,>=3.0.7->streamlit) (5.0.2)\n",
            "Requirement already satisfied: parso<0.9.0,>=0.8.4 in /usr/local/lib/python3.11/dist-packages (from jedi>=0.16->ipython>=5.3.0->pyvis) (0.8.4)\n",
            "Requirement already satisfied: attrs>=22.2.0 in /usr/local/lib/python3.11/dist-packages (from jsonschema>=3.0->altair<6,>=4.0->streamlit) (25.3.0)\n",
            "Requirement already satisfied: jsonschema-specifications>=2023.03.6 in /usr/local/lib/python3.11/dist-packages (from jsonschema>=3.0->altair<6,>=4.0->streamlit) (2025.4.1)\n",
            "Requirement already satisfied: referencing>=0.28.4 in /usr/local/lib/python3.11/dist-packages (from jsonschema>=3.0->altair<6,>=4.0->streamlit) (0.36.2)\n",
            "Requirement already satisfied: rpds-py>=0.7.1 in /usr/local/lib/python3.11/dist-packages (from jsonschema>=3.0->altair<6,>=4.0->streamlit) (0.24.0)\n",
            "Requirement already satisfied: ptyprocess>=0.5 in /usr/local/lib/python3.11/dist-packages (from pexpect>4.3->ipython>=5.3.0->pyvis) (0.7.0)\n",
            "Requirement already satisfied: wcwidth in /usr/local/lib/python3.11/dist-packages (from prompt-toolkit!=3.0.0,!=3.0.1,<3.1.0,>=2.0.0->ipython>=5.3.0->pyvis) (0.2.13)\n",
            "Requirement already satisfied: six>=1.5 in /usr/local/lib/python3.11/dist-packages (from python-dateutil>=2.8.2->pandas<3,>=1.4.0->streamlit) (1.17.0)\n"
          ]
        }
      ],
      "source": [
        "pip install streamlit pyvis pycryptodome cloudflared\n"
      ]
    },
    {
      "cell_type": "code",
      "execution_count": null,
      "metadata": {
        "id": "Jp7cEhTjE10W",
        "colab": {
          "base_uri": "https://localhost:8080/"
        },
        "outputId": "b4e5ddd2-6aa4-4fa5-d4f6-45dcdbe643fd"
      },
      "outputs": [
        {
          "output_type": "stream",
          "name": "stdout",
          "text": [
            "Writing app.py\n"
          ]
        }
      ],
      "source": [
        "%%writefile app.py\n",
        "import streamlit as st\n",
        "import base64\n",
        "from Crypto.Cipher import AES\n",
        "import os\n",
        "import numpy as np\n",
        "import pickle\n",
        "from pyvis.network import Network\n",
        "import tempfile\n",
        "\n",
        "dataset_path = \"/content/ppi_dataset/\"\n",
        "graph_path = os.path.join(dataset_path, \"protein_graph.pkl\")\n",
        "encrypted_path = os.path.join(dataset_path, \"encrypted_features.bin\")\n",
        "gnn_embeddings_path = os.path.join(dataset_path, \"gnn_node_embeddings.npy\")  # Path for GNN embeddings\n",
        "\n",
        "if not os.path.exists(graph_path):\n",
        "    st.error(\" Graph file not found! Please generate the graph first.\")\n",
        "    st.stop()\n",
        "\n",
        "with open(graph_path, \"rb\") as f:\n",
        "    G = pickle.load(f)\n",
        "\n",
        "if G.number_of_nodes() == 0 or G.number_of_edges() == 0:\n",
        "    st.error(\" The graph is empty! Cannot visualize an empty graph.\")\n",
        "    st.stop()\n",
        "\n",
        "if not os.path.exists(encrypted_path):\n",
        "    st.error(\" Encrypted data file not found! Please encrypt the features first.\")\n",
        "    st.stop()\n",
        "\n",
        "with open(encrypted_path, \"rb\") as f:\n",
        "    encrypted_data = f.read()\n",
        "\n",
        "def decrypt_data(encrypted_data, key):\n",
        "    try:\n",
        "        key = base64.b64decode(key)\n",
        "        nonce, tag, ciphertext = encrypted_data[:16], encrypted_data[16:32], encrypted_data[32:]\n",
        "        cipher = AES.new(key, AES.MODE_GCM, nonce=nonce)\n",
        "        decrypted_data = cipher.decrypt_and_verify(ciphertext, tag)\n",
        "        return decrypted_data\n",
        "    except Exception:\n",
        "        return None\n",
        "\n",
        "st.title(\"🔐 PrivateGraph: Secure Graph Visualization\")\n",
        "\n",
        "user_key = st.text_input(\"Enter the decryption key:\", type=\"password\")\n",
        "\n",
        "if user_key:\n",
        "    decrypted_data = decrypt_data(encrypted_data, user_key)\n",
        "\n",
        "    if decrypted_data:\n",
        "        st.success(\" Decryption successful! Displaying the **GNN-trained graph**...\")\n",
        "\n",
        "        eigenvectors = np.frombuffer(decrypted_data, dtype=np.float32).reshape(-1, len(G.nodes()))\n",
        "\n",
        "        if os.path.exists(gnn_embeddings_path):\n",
        "            node_embeddings = np.load(gnn_embeddings_path)\n",
        "            use_gnn = True\n",
        "            st.info(\" GNN embeddings loaded! Visualizing learned graph...\")\n",
        "        else:\n",
        "            node_embeddings = None\n",
        "            use_gnn = False\n",
        "            st.warning(\"Showing graph data.\")\n",
        "\n",
        "        G_vis = Network(height=\"600px\", width=\"100%\", notebook=False)\n",
        "\n",
        "        for node in G.nodes():\n",
        "            color = \"#1f78b4\"\n",
        "            if use_gnn and node < len(node_embeddings):\n",
        "                norm_value = (node_embeddings[node] - np.min(node_embeddings)) / (np.max(node_embeddings) - np.min(node_embeddings))\n",
        "                color = f\"rgba(255, 0, 0, {norm_value[0]})\"\n",
        "            G_vis.add_node(node, label=str(node), color=color)\n",
        "\n",
        "        for u, v in G.edges():\n",
        "            G_vis.add_edge(u, v)\n",
        "\n",
        "        if len(G_vis.nodes) == 0:\n",
        "            st.error(\" No nodes added to visualization! Check graph structure.\")\n",
        "            st.stop()\n",
        "\n",
        "        temp_file = tempfile.NamedTemporaryFile(delete=False, suffix=\".html\")\n",
        "        G_vis.write_html(temp_file.name)\n",
        "\n",
        "        with open(temp_file.name, \"r\", encoding=\"utf-8\") as f:\n",
        "            html_content = f.read()\n",
        "        st.components.v1.html(html_content, height=600)\n",
        "\n",
        "        os.unlink(temp_file.name)\n",
        "\n",
        "    else:\n",
        "        st.error(\" Incorrect decryption key! Access Denied.\")\n"
      ]
    },
    {
      "cell_type": "code",
      "execution_count": null,
      "metadata": {
        "id": "VyDeTmFHFeRW",
        "colab": {
          "base_uri": "https://localhost:8080/"
        },
        "outputId": "788f960d-9e0b-4f65-b99c-1a8e47c3cdb4"
      },
      "outputs": [
        {
          "metadata": {
            "tags": null
          },
          "name": "stdout",
          "output_type": "stream",
          "text": [
            "\n",
            "Collecting usage statistics. To deactivate, set browser.gatherUsageStats to false.\n",
            "\u001b[0m\n",
            "\u001b[1G\u001b[0K⠙\u001b[1G\u001b[0K⠹\u001b[1G\u001b[0K⠸\u001b[1G\u001b[0K⠼\u001b[0m\n",
            "\u001b[34m\u001b[1m  You can now view your Streamlit app in your browser.\u001b[0m\n",
            "\u001b[0m\n",
            "\u001b[34m  Local URL: \u001b[0m\u001b[1mhttp://localhost:8501\u001b[0m\n",
            "\u001b[34m  Network URL: \u001b[0m\u001b[1mhttp://172.28.0.12:8501\u001b[0m\n",
            "\u001b[34m  External URL: \u001b[0m\u001b[1mhttp://34.125.220.70:8501\u001b[0m\n",
            "\u001b[0m\n",
            "\u001b[1G\u001b[0K⠴\u001b[1G\u001b[0K\u001b[1G\u001b[0JNeed to install the following packages:\n",
            "cloudflared@0.7.0\n",
            "Ok to proceed? (y) \u001b[20Gy\n",
            "\n",
            "\u001b[1G\u001b[0K⠙\u001b[1G\u001b[0K⠹\u001b[1G\u001b[0K⠸\u001b[1G\u001b[0K⠼\u001b[1G\u001b[0K⠴\u001b[1G\u001b[0K⠦\u001b[1G\u001b[0K⠧\u001b[1G\u001b[0K⠇\u001b[1G\u001b[0K⠏\u001b[1G\u001b[0K⠋\u001b[1G\u001b[0K⠙\u001b[1G\u001b[0K⠹\u001b[1G\u001b[0K⠸\u001b[1G\u001b[0K⠼\u001b[1G\u001b[0K⠴\u001b[1G\u001b[0K⠦\u001b[1G\u001b[0K⠧\u001b[1G\u001b[0K⠇\u001b[1G\u001b[0K⠏\u001b[1G\u001b[0K⠋\u001b[1G\u001b[0K\u001b[90m2025-05-06T06:19:34Z\u001b[0m \u001b[32mINF\u001b[0m Thank you for trying Cloudflare Tunnel. Doing so, without a Cloudflare account, is a quick way to experiment and try it out. However, be aware that these account-less Tunnels have no uptime guarantee, are subject to the Cloudflare Online Services Terms of Use (https://www.cloudflare.com/website-terms/), and Cloudflare reserves the right to investigate your use of Tunnels for violations of such terms. If you intend to use Tunnels in production you should use a pre-created named tunnel by following: https://developers.cloudflare.com/cloudflare-one/connections/connect-apps\n",
            "\u001b[90m2025-05-06T06:19:34Z\u001b[0m \u001b[32mINF\u001b[0m Requesting new quick Tunnel on trycloudflare.com...\n",
            "\u001b[90m2025-05-06T06:19:37Z\u001b[0m \u001b[32mINF\u001b[0m +--------------------------------------------------------------------------------------------+\n",
            "\u001b[90m2025-05-06T06:19:37Z\u001b[0m \u001b[32mINF\u001b[0m |  Your quick Tunnel has been created! Visit it at (it may take some time to be reachable):  |\n",
            "\u001b[90m2025-05-06T06:19:37Z\u001b[0m \u001b[32mINF\u001b[0m |  https://horse-tim-regression-predictions.trycloudflare.com                                |\n",
            "\u001b[90m2025-05-06T06:19:37Z\u001b[0m \u001b[32mINF\u001b[0m +--------------------------------------------------------------------------------------------+\n",
            "\u001b[90m2025-05-06T06:19:37Z\u001b[0m \u001b[32mINF\u001b[0m Cannot determine default configuration path. No file [config.yml config.yaml] in [~/.cloudflared ~/.cloudflare-warp ~/cloudflare-warp /etc/cloudflared /usr/local/etc/cloudflared]\n",
            "\u001b[90m2025-05-06T06:19:37Z\u001b[0m \u001b[32mINF\u001b[0m Version 2025.4.2 (Checksum c4f2c09e38569f850da274d3b8502ea88304c1bd0a4f1528b420c23f715d4551)\n",
            "\u001b[90m2025-05-06T06:19:37Z\u001b[0m \u001b[32mINF\u001b[0m GOOS: linux, GOVersion: go1.22.10, GoArch: amd64\n",
            "\u001b[90m2025-05-06T06:19:37Z\u001b[0m \u001b[32mINF\u001b[0m Settings: map[ha-connections:1 protocol:quic url:http://localhost:8501]\n",
            "\u001b[90m2025-05-06T06:19:37Z\u001b[0m \u001b[32mINF\u001b[0m Generated Connector ID: e8dd9390-77b5-4600-bc7c-f8a25e47de98\n",
            "\u001b[90m2025-05-06T06:19:37Z\u001b[0m \u001b[32mINF\u001b[0m cloudflared will not automatically update when run from the shell. To enable auto-updates, run cloudflared as a service: https://developers.cloudflare.com/cloudflare-one/connections/connect-apps/configure-tunnels/local-management/as-a-service/\n",
            "\u001b[90m2025-05-06T06:19:37Z\u001b[0m \u001b[32mINF\u001b[0m Initial protocol quic\n",
            "\u001b[90m2025-05-06T06:19:37Z\u001b[0m \u001b[32mINF\u001b[0m ICMP proxy will use 172.28.0.12 as source for IPv4\n",
            "\u001b[90m2025-05-06T06:19:37Z\u001b[0m \u001b[32mINF\u001b[0m ICMP proxy will use :: as source for IPv6\n",
            "\u001b[90m2025-05-06T06:19:37Z\u001b[0m \u001b[32mINF\u001b[0m ICMP proxy will use 172.28.0.12 as source for IPv4\n",
            "\u001b[90m2025-05-06T06:19:37Z\u001b[0m \u001b[32mINF\u001b[0m ICMP proxy will use :: as source for IPv6\n",
            "\u001b[90m2025-05-06T06:19:37Z\u001b[0m \u001b[32mINF\u001b[0m Starting metrics server on 127.0.0.1:20241/metrics\n",
            "\u001b[90m2025-05-06T06:19:37Z\u001b[0m \u001b[32mINF\u001b[0m Using [CurveID(4588) CurveID(25497) CurveP256] as curve preferences \u001b[36mconnIndex=\u001b[0m0 \u001b[36mevent=\u001b[0m0 \u001b[36mip=\u001b[0m198.41.200.13\n",
            "2025/05/06 06:19:37 failed to sufficiently increase receive buffer size (was: 208 kiB, wanted: 7168 kiB, got: 416 kiB). See https://github.com/quic-go/quic-go/wiki/UDP-Buffer-Sizes for details.\n",
            "\u001b[90m2025-05-06T06:19:37Z\u001b[0m \u001b[32mINF\u001b[0m Registered tunnel connection \u001b[36mconnIndex=\u001b[0m0 \u001b[36mconnection=\u001b[0mc2286ed5-f7fc-4dca-afe1-7bc4a4f4082d \u001b[36mevent=\u001b[0m0 \u001b[36mip=\u001b[0m198.41.200.13 \u001b[36mlocation=\u001b[0mlax01 \u001b[36mprotocol=\u001b[0mquic\n",
            "\u001b[90m2025-05-06T06:20:04Z\u001b[0m \u001b[1m\u001b[31mERR\u001b[0m\u001b[0m  \u001b[31merror=\u001b[0m\u001b[31m\"stream 49 canceled by remote with error code 0\"\u001b[0m \u001b[36mconnIndex=\u001b[0m0 \u001b[36mevent=\u001b[0m1 \u001b[36mingressRule=\u001b[0m0 \u001b[36moriginService=\u001b[0mhttp://localhost:8501\n",
            "\u001b[90m2025-05-06T06:20:04Z\u001b[0m \u001b[1m\u001b[31mERR\u001b[0m\u001b[0m Request failed \u001b[31merror=\u001b[0m\u001b[31m\"stream 49 canceled by remote with error code 0\"\u001b[0m \u001b[36mconnIndex=\u001b[0m0 \u001b[36mdest=\u001b[0mhttps://horse-tim-regression-predictions.trycloudflare.com/static/media/SourceSansPro-Regular.DZLUzqI4.woff2 \u001b[36mevent=\u001b[0m0 \u001b[36mip=\u001b[0m198.41.200.13 \u001b[36mtype=\u001b[0mhttp\n",
            "\u001b[90m2025-05-06T06:20:04Z\u001b[0m \u001b[1m\u001b[31mERR\u001b[0m\u001b[0m  \u001b[31merror=\u001b[0m\u001b[31m\"stream 53 canceled by remote with error code 0\"\u001b[0m \u001b[36mconnIndex=\u001b[0m0 \u001b[36mevent=\u001b[0m1 \u001b[36mingressRule=\u001b[0m0 \u001b[36moriginService=\u001b[0mhttp://localhost:8501\n",
            "\u001b[90m2025-05-06T06:20:04Z\u001b[0m \u001b[1m\u001b[31mERR\u001b[0m\u001b[0m Request failed \u001b[31merror=\u001b[0m\u001b[31m\"stream 53 canceled by remote with error code 0\"\u001b[0m \u001b[36mconnIndex=\u001b[0m0 \u001b[36mdest=\u001b[0mhttps://horse-tim-regression-predictions.trycloudflare.com/static/media/SourceSansPro-Bold.-6c9oR8J.woff2 \u001b[36mevent=\u001b[0m0 \u001b[36mip=\u001b[0m198.41.200.13 \u001b[36mtype=\u001b[0mhttp\n",
            "\u001b[90m2025-05-06T06:20:04Z\u001b[0m \u001b[1m\u001b[31mERR\u001b[0m\u001b[0m  \u001b[31merror=\u001b[0m\u001b[31m\"stream 41 canceled by remote with error code 0\"\u001b[0m \u001b[36mconnIndex=\u001b[0m0 \u001b[36mevent=\u001b[0m1 \u001b[36mingressRule=\u001b[0m0 \u001b[36moriginService=\u001b[0mhttp://localhost:8501\n",
            "\u001b[90m2025-05-06T06:20:04Z\u001b[0m \u001b[1m\u001b[31mERR\u001b[0m\u001b[0m Request failed \u001b[31merror=\u001b[0m\u001b[31m\"stream 41 canceled by remote with error code 0\"\u001b[0m \u001b[36mconnIndex=\u001b[0m0 \u001b[36mdest=\u001b[0mhttps://horse-tim-regression-predictions.trycloudflare.com/static/js/index.BqDl3eRM.js \u001b[36mevent=\u001b[0m0 \u001b[36mip=\u001b[0m198.41.200.13 \u001b[36mtype=\u001b[0mhttp\n",
            "\u001b[90m2025-05-06T06:20:04Z\u001b[0m \u001b[1m\u001b[31mERR\u001b[0m\u001b[0m  \u001b[31merror=\u001b[0m\u001b[31m\"stream 57 canceled by remote with error code 0\"\u001b[0m \u001b[36mconnIndex=\u001b[0m0 \u001b[36mevent=\u001b[0m1 \u001b[36mingressRule=\u001b[0m0 \u001b[36moriginService=\u001b[0mhttp://localhost:8501\n",
            "\u001b[90m2025-05-06T06:20:04Z\u001b[0m \u001b[1m\u001b[31mERR\u001b[0m\u001b[0m Request failed \u001b[31merror=\u001b[0m\u001b[31m\"stream 57 canceled by remote with error code 0\"\u001b[0m \u001b[36mconnIndex=\u001b[0m0 \u001b[36mdest=\u001b[0mhttps://horse-tim-regression-predictions.trycloudflare.com/static/media/SourceSansPro-SemiBold.sKQIyTMz.woff2 \u001b[36mevent=\u001b[0m0 \u001b[36mip=\u001b[0m198.41.200.13 \u001b[36mtype=\u001b[0mhttp\n",
            "\u001b[90m2025-05-06T06:20:04Z\u001b[0m \u001b[1m\u001b[31mERR\u001b[0m\u001b[0m  \u001b[31merror=\u001b[0m\u001b[31m\"stream 65 canceled by remote with error code 0\"\u001b[0m \u001b[36mconnIndex=\u001b[0m0 \u001b[36mevent=\u001b[0m1 \u001b[36mingressRule=\u001b[0m0 \u001b[36moriginService=\u001b[0mhttp://localhost:8501\n",
            "\u001b[90m2025-05-06T06:20:04Z\u001b[0m \u001b[1m\u001b[31mERR\u001b[0m\u001b[0m Request failed \u001b[31merror=\u001b[0m\u001b[31m\"stream 65 canceled by remote with error code 0\"\u001b[0m \u001b[36mconnIndex=\u001b[0m0 \u001b[36mdest=\u001b[0mhttps://horse-tim-regression-predictions.trycloudflare.com/static/media/SourceSansPro-SemiBold.sKQIyTMz.woff2 \u001b[36mevent=\u001b[0m0 \u001b[36mip=\u001b[0m198.41.200.13 \u001b[36mtype=\u001b[0mhttp\n",
            "\u001b[90m2025-05-06T06:20:04Z\u001b[0m \u001b[1m\u001b[31mERR\u001b[0m\u001b[0m  \u001b[31merror=\u001b[0m\u001b[31m\"stream 77 canceled by remote with error code 0\"\u001b[0m \u001b[36mconnIndex=\u001b[0m0 \u001b[36mevent=\u001b[0m1 \u001b[36mingressRule=\u001b[0m0 \u001b[36moriginService=\u001b[0mhttp://localhost:8501\n",
            "\u001b[90m2025-05-06T06:20:04Z\u001b[0m \u001b[1m\u001b[31mERR\u001b[0m\u001b[0m Request failed \u001b[31merror=\u001b[0m\u001b[31m\"stream 77 canceled by remote with error code 0\"\u001b[0m \u001b[36mconnIndex=\u001b[0m0 \u001b[36mdest=\u001b[0mhttps://horse-tim-regression-predictions.trycloudflare.com/static/media/SourceSansPro-Regular.DZLUzqI4.woff2 \u001b[36mevent=\u001b[0m0 \u001b[36mip=\u001b[0m198.41.200.13 \u001b[36mtype=\u001b[0mhttp\n",
            "\u001b[90m2025-05-06T06:20:04Z\u001b[0m \u001b[1m\u001b[31mERR\u001b[0m\u001b[0m  \u001b[31merror=\u001b[0m\u001b[31m\"stream 73 canceled by remote with error code 0\"\u001b[0m \u001b[36mconnIndex=\u001b[0m0 \u001b[36mevent=\u001b[0m1 \u001b[36mingressRule=\u001b[0m0 \u001b[36moriginService=\u001b[0mhttp://localhost:8501\n",
            "\u001b[90m2025-05-06T06:20:04Z\u001b[0m \u001b[1m\u001b[31mERR\u001b[0m\u001b[0m Request failed \u001b[31merror=\u001b[0m\u001b[31m\"stream 73 canceled by remote with error code 0\"\u001b[0m \u001b[36mconnIndex=\u001b[0m0 \u001b[36mdest=\u001b[0mhttps://horse-tim-regression-predictions.trycloudflare.com/static/media/SourceSansPro-Bold.-6c9oR8J.woff2 \u001b[36mevent=\u001b[0m0 \u001b[36mip=\u001b[0m198.41.200.13 \u001b[36mtype=\u001b[0mhttp\n",
            "\u001b[90m2025-05-06T06:20:04Z\u001b[0m \u001b[1m\u001b[31mERR\u001b[0m\u001b[0m  \u001b[31merror=\u001b[0m\u001b[31m\"stream 69 canceled by remote with error code 0\"\u001b[0m \u001b[36mconnIndex=\u001b[0m0 \u001b[36mevent=\u001b[0m1 \u001b[36mingressRule=\u001b[0m0 \u001b[36moriginService=\u001b[0mhttp://localhost:8501\n",
            "\u001b[90m2025-05-06T06:20:04Z\u001b[0m \u001b[1m\u001b[31mERR\u001b[0m\u001b[0m Request failed \u001b[31merror=\u001b[0m\u001b[31m\"stream 69 canceled by remote with error code 0\"\u001b[0m \u001b[36mconnIndex=\u001b[0m0 \u001b[36mdest=\u001b[0mhttps://horse-tim-regression-predictions.trycloudflare.com/static/js/index.BqDl3eRM.js \u001b[36mevent=\u001b[0m0 \u001b[36mip=\u001b[0m198.41.200.13 \u001b[36mtype=\u001b[0mhttp\n"
          ]
        }
      ],
      "source": [
        "!streamlit run app.py & npx cloudflared tunnel --url http://localhost:8501\n"
      ]
    }
  ],
  "metadata": {
    "accelerator": "GPU",
    "colab": {
      "gpuType": "T4",
      "provenance": []
    },
    "kernelspec": {
      "display_name": "Python 3",
      "name": "python3"
    },
    "language_info": {
      "name": "python"
    }
  },
  "nbformat": 4,
  "nbformat_minor": 0
}
